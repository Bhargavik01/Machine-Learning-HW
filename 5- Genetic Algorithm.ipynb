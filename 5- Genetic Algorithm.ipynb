{
 "cells": [
  {
   "cell_type": "code",
   "execution_count": 1,
   "id": "cd297a16",
   "metadata": {
    "scrolled": true
   },
   "outputs": [
    {
     "data": {
      "text/plain": [
       "[<matplotlib.lines.Line2D at 0x7f8449f7d790>]"
      ]
     },
     "execution_count": 1,
     "metadata": {},
     "output_type": "execute_result"
    },
    {
     "data": {
      "image/png": "[encoded data removed]",
      "text/plain": [
       "<Figure size 432x288 with 1 Axes>"
      ]
     },
     "metadata": {},
     "output_type": "display_data"
    }
   ],
   "source": [
    "import matplotlib.pyplot as plt \n",
    "plt.style.use('seaborn-whitegrid') \n",
    "import numpy as np \n",
    "import random\n",
    "import copy\n",
    "\n",
    "# Variables\n",
    "noiseScale = 100\n",
    "numberOfSamples = 50\n",
    "\n",
    "# function was used from Homework1\n",
    "x = 25*(np.random.rand(numberOfSamples, 1) - 0.5)\n",
    "#print(x)\n",
    "# y=5x+15X^2+2x^3 M=3\n",
    "y = (5 * x) + (15 * x**2) + (2 * x**3) + noiseScale*np.random.randn(numberOfSamples, 1)\n",
    "z=y.copy()\n",
    "plt.plot(x,y,'ro')"
   ]
  },
  {
   "cell_type": "code",
   "execution_count": null,
   "id": "73769ab7",
   "metadata": {},
   "outputs": [],
   "source": []
  },
  {
   "cell_type": "code",
   "execution_count": 2,
   "id": "d48265af",
   "metadata": {},
   "outputs": [
    {
     "name": "stdout",
     "output_type": "stream",
     "text": [
      "       3         2\n",
      "1.955 x + 15.17 x + 10.6 x + 23.31\n"
     ]
    },
    {
     "data": {
      "image/png": "[encoded data removed]",
      "text/plain": [
       "<Figure size 432x288 with 1 Axes>"
      ]
     },
     "metadata": {},
     "output_type": "display_data"
    }
   ],
   "source": [
    "# Convert nD arrays to 1D array using ravel()\n",
    "type(x)\n",
    "x = x.ravel()\n",
    "y = y.ravel()\n",
    "\n",
    "#Fit the ploynomial\n",
    "fit = np.poly1d(np.polyfit(x, y, 3))\n",
    "print(fit)\n",
    "t = np.linspace(-20, 5, 200)\n",
    "\n",
    "plt.plot(x, y, 'ro', t, fit(t), '-')\n",
    "\n",
    "plt.xlim(-25, 5)\n",
    "plt.ylim(-2500, 1000)\n",
    "plt.title(\"polynomial with m = \" + str(3))\n",
    "plt.show()"
   ]
  },
  {
   "cell_type": "code",
   "execution_count": 3,
   "id": "856513df",
   "metadata": {},
   "outputs": [],
   "source": [
    "def Initial_Population(size):\n",
    "    \n",
    "    # Creates initial population size of n\n",
    "    \n",
    "    # create chormosome list and append random population of size 4\n",
    "    chromosomes = []\n",
    "    \n",
    "    for i in range(size): \n",
    "        chromosomes.append([random.randint(-50,50) for i in range(4)])\n",
    "    #print(chromosomes)\n",
    "    return chromosomes "
   ]
  },
  {
   "cell_type": "code",
   "execution_count": 4,
   "id": "e68d3cd2",
   "metadata": {},
   "outputs": [],
   "source": [
    "#mutation function\n",
    "def mutation_operation(individual): \n",
    "    \n",
    "    # gives 9 new mutated chromosomes from each \n",
    "    # create mutations list and appening all mutaion here\n",
    "    mutations = []\n",
    "    mutations.append(individual)\n",
    "    \n",
    "    for _ in range(9): \n",
    "        new = copy.deepcopy(individual)\n",
    "        rand_idx = random.randrange(len(new))\n",
    "        rand_num = new[rand_idx]\n",
    "        \n",
    "        rand_float = random.uniform(0.0,2.0)\n",
    "        \n",
    "        new_num = rand_num * rand_float\n",
    "        new[rand_idx] = new_num\n",
    "        \n",
    "        mutations.append(new)\n",
    "    #print(mutations)\n",
    "    return mutations"
   ]
  },
  {
   "cell_type": "code",
   "execution_count": 5,
   "id": "02166afc",
   "metadata": {},
   "outputs": [],
   "source": [
    "#cross over function\n",
    "def crossover_operation(parent1, parent2): \n",
    "    \n",
    "    # Implementing One point crossover \n",
    "    \n",
    "    newParent1, newParent2 = [], []\n",
    "    rand_idx = random.randrange(len(parent1))\n",
    "\n",
    "    #split parents 1 and 2 from index\n",
    "    newParent1 = parent1[:rand_idx]+ parent2[rand_idx:]\n",
    "    newParent2 = parent2[:rand_idx] + parent1[rand_idx:]\n",
    "    #print(newParent1, newParent2)\n",
    "    \n",
    "    return newParent1, newParent2"
   ]
  },
  {
   "cell_type": "code",
   "execution_count": 6,
   "id": "5223e12c",
   "metadata": {},
   "outputs": [],
   "source": [
    "def cost_function(i, chromosome): \n",
    "    \n",
    "    # Returns coefficients of f(x)\n",
    "    \n",
    "    return chromosome[0]*(x[i]**3) + chromosome[1]*(x[i]**2) + chromosome[2]*(x[i])+ chromosome[3]\n",
    "\n",
    "def fitness_function(chromosome): \n",
    "    \n",
    "    # Measuring chromosomes's fitness by MSE\n",
    "    #intializ bad to 0 and it will update with MSE\n",
    "    badness = 0 \n",
    "    for i in range(len(x)):\n",
    "        #get cost from cost_function\n",
    "        pred = cost_function(i, chromosome)\n",
    "        yval = y[i]\n",
    "        badness += (pred - yval)**2\n",
    "\n",
    "    return (chromosome, round(badness))\n",
    "\n",
    "#fitnesspopulation function takes population ass input and produce bestgenes.\n",
    "def fitnessPopulation(population): \n",
    "    \n",
    "    #gives overall population's best 10 fitted ones \n",
    "    \n",
    "    bestGenes = []\n",
    "    for i in range(len(population)): \n",
    "        individual = population[i]\n",
    "        # print(individual)\n",
    "        scores = fitness_function(individual)\n",
    "        #print(\"before\",bestGenes)\n",
    "        bestGenes.append(scores)\n",
    "        #print(bestGenes)\n",
    "    bestGenes = sorted(bestGenes, key = lambda x: float(x[1]), reverse = False)[:10]\n",
    "    return bestGenes "
   ]
  },
  {
   "cell_type": "code",
   "execution_count": 7,
   "id": "8fd5404e",
   "metadata": {},
   "outputs": [],
   "source": [
    "#main function/genetic function\n",
    "def Genetic_Algorithm(): \n",
    "\n",
    "    num_generations = 50\n",
    "    bestGenes = []\n",
    "    \n",
    "    population = Initial_Population(40)\n",
    "    #print(population)\n",
    "\n",
    "    for i in range(num_generations): \n",
    "        \n",
    "        new_population = []\n",
    "        \n",
    "\n",
    "        bestGenes = fitnessPopulation(population)\n",
    "        \n",
    "        newParents = []\n",
    "        \n",
    "        # adding crossover to parents \n",
    "        for j in range(0, len(bestGenes)-1,2): \n",
    "            \n",
    "            parent1, parent2 = crossover_operation(bestGenes[j][0], bestGenes[j+1][0])\n",
    "\n",
    "            newParents.append(parent1)\n",
    "            newParents.append(parent2)\n",
    "\n",
    "        #print(newParents)\n",
    "        # adding mutation to cross-over parents \n",
    "        \n",
    "        for k in range(len(newParents)): \n",
    "            \n",
    "            newGenes = mutation_operation(newParents[k])\n",
    "            \n",
    "            # add each child to population \n",
    "            for m in newGenes: \n",
    "                new_population.append(m)\n",
    "            \n",
    "        # replace old popu with new popu \n",
    "        population = copy.deepcopy(new_population)\n",
    "\n",
    "    # print(population)\n",
    "    return population "
   ]
  },
  {
   "cell_type": "code",
   "execution_count": 8,
   "id": "e4c26b3b",
   "metadata": {},
   "outputs": [],
   "source": [
    "bestFit = Genetic_Algorithm()"
   ]
  },
  {
   "cell_type": "code",
   "execution_count": 9,
   "id": "1da8f064",
   "metadata": {},
   "outputs": [
    {
     "data": {
      "text/plain": [
       "[2.0459213892412036,\n",
       " 15.040650566227148,\n",
       " -3.448986353380093e-08,\n",
       " 24.79116452008949]"
      ]
     },
     "execution_count": 9,
     "metadata": {},
     "output_type": "execute_result"
    }
   ],
   "source": [
    "new_coeff = fitnessPopulation(bestFit)[0][0]\n",
    "new_coeff"
   ]
  },
  {
   "cell_type": "code",
   "execution_count": 10,
   "id": "d631269a",
   "metadata": {},
   "outputs": [
    {
     "data": {
      "image/png": "[encoded data removed]",
      "text/plain": [
       "<Figure size 432x288 with 1 Axes>"
      ]
     },
     "metadata": {},
     "output_type": "display_data"
    }
   ],
   "source": [
    "# Comparing the initial graph vs the graph plotted using the coefficients from the Genetic Algorithm\n",
    "\n",
    "fit = np.poly1d(np.polyfit(x, y, 3))\n",
    "t = np.linspace(-20, 5, 200)\n",
    "\n",
    "plt.plot(x, y, 'ro')\n",
    "plt.plot(t, fit(t), '-', label = 'polynomial')\n",
    "\n",
    "poly = np.poly1d(new_coeff)\n",
    "newSorted = np.sort(x) \n",
    "plt.plot(newSorted, poly(newSorted), label = 'GA generated') \n",
    "\n",
    "plt.xlim(-15, 5)\n",
    "plt.ylim(-2500, 1000)\n",
    "plt.legend()\n",
    "plt.title(\"polynomial with m = \" + str(3))\n",
    "plt.show()\n"
   ]
  },
  {
   "cell_type": "markdown",
   "id": "48d5e527",
   "metadata": {},
   "source": [
    "<b>\n",
    "    \n",
    " - Every time we are getting differnt outputs. sometimes GA is converging to polynomial functions and some times    it not .\n",
    " - Also the convergence is depending on Number of generations and and also on initial population count\n",
    " - when the number of generations or count of initial population is low, moslty it is diverging\n",
    " - There fore we should give good values for initial population and number of generations count as well.\n",
    "</b>"
   ]
  },
  {
   "cell_type": "markdown",
   "id": "6f5ca2d5",
   "metadata": {},
   "source": [
    "# Compare  and discussion the difference in performance of the two polynomials obtained with two different  methods. "
   ]
  },
  {
   "cell_type": "code",
   "execution_count": 15,
   "id": "4b8605da",
   "metadata": {},
   "outputs": [],
   "source": [
    "y_poly=fit(x)"
   ]
  },
  {
   "cell_type": "code",
   "execution_count": 16,
   "id": "5719db4b",
   "metadata": {},
   "outputs": [],
   "source": [
    "\n",
    "ypred=[]\n",
    "for i in x:\n",
    "    y=new_coeff[0] * i**3 + new_coeff[1]  * i**2 + new_coeff[2]  * i +new_coeff[3]\n",
    "    ypred.append(y)"
   ]
  },
  {
   "cell_type": "code",
   "execution_count": 17,
   "id": "519fabac",
   "metadata": {
    "scrolled": false
   },
   "outputs": [
    {
     "name": "stdout",
     "output_type": "stream",
     "text": [
      "Mean Square Error \n",
      "MSE for GA: 8991.74215776096\n",
      "MSE for polynomial fit 7882.053420085091\n",
      " \n",
      "Mean absolute error for GA 75.92615601347569\n",
      "Mean abssolute error for polynomial fit : 68.62549340180088\n"
     ]
    }
   ],
   "source": [
    "from sklearn.metrics import mean_squared_error, accuracy_score\n",
    "from sklearn.metrics import mean_absolute_error as mae\n",
    "MSE_GA=mean_squared_error(z,ypred)\n",
    "MSE_Poly=mean_squared_error(z,y_poly)\n",
    "print( \"Mean Square Error \")\n",
    "print(\"MSE for GA:\",MSE_GA)\n",
    "print(\"MSE for polynomial fit\",MSE_Poly)\n",
    "\n",
    "\n",
    "print(\" \")\n",
    "print(\"Mean absolute error for GA\",mae(z, ypred))\n",
    "print(\"Mean abssolute error for polynomial fit :\",mae(z, y_poly))\n"
   ]
  },
  {
   "cell_type": "markdown",
   "id": "28c4b397",
   "metadata": {},
   "source": [
    "### In both the metrics i.e MAE and MSE:Polynomial degree of 3 with polyfit has less error comapred to Genetic Algorithm. It may vary for higher degree polynomials"
   ]
  },
  {
   "cell_type": "code",
   "execution_count": null,
   "id": "30eb1332",
   "metadata": {},
   "outputs": [],
   "source": []
  }
 ],
 "metadata": {
  "kernelspec": {
   "display_name": "Python 3 (ipykernel)",
   "language": "python",
   "name": "python3"
  },
  "language_info": {
   "codemirror_mode": {
    "name": "ipython",
    "version": 3
   },
   "file_extension": ".py",
   "mimetype": "text/x-python",
   "name": "python",
   "nbconvert_exporter": "python",
   "pygments_lexer": "ipython3",
   "version": "3.9.7"
  }
 },
 "nbformat": 4,
 "nbformat_minor": 5
}
