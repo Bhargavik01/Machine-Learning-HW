{
 "cells": [
  {
   "cell_type": "code",
   "execution_count": 1,
   "id": "70e5b922",
   "metadata": {},
   "outputs": [],
   "source": [
    "# Implemented linear regression using normal, batch gradient, stochastic gradient"
   ]
  },
  {
   "cell_type": "code",
   "execution_count": 2,
   "id": "5e1283e5",
   "metadata": {},
   "outputs": [],
   "source": [
    "import numpy as np"
   ]
  },
  {
   "cell_type": "code",
   "execution_count": 3,
   "id": "3f78eae7",
   "metadata": {},
   "outputs": [],
   "source": [
    "import pandas as pd\n",
    "import math\n",
    "import numpy as np\n",
    "import matplotlib.pyplot as plt\n",
    "import os\n"
   ]
  },
  {
   "cell_type": "code",
   "execution_count": 4,
   "id": "e85dd028",
   "metadata": {},
   "outputs": [],
   "source": [
    "os.chdir('/Users/gopal/Downloads/bhargavi/HW2') "
   ]
  },
  {
   "cell_type": "markdown",
   "id": "a1a774f1",
   "metadata": {},
   "source": [
    "# Plot the data (i.e., x-axis for the 1st column, y-axis for the 2nd column), \n",
    "and use Python to implement the following methods to find the coefficients: "
   ]
  },
  {
   "cell_type": "code",
   "execution_count": 5,
   "id": "34c7849b",
   "metadata": {
    "scrolled": false
   },
   "outputs": [
    {
     "name": "stdout",
     "output_type": "stream",
     "text": [
      "          X         Y\n",
      "0    6.1101  17.59200\n",
      "1    5.5277   9.13020\n",
      "2    8.5186  13.66200\n",
      "3    7.0032  11.85400\n",
      "4    5.8598   6.82330\n",
      "..      ...       ...\n",
      "92   5.8707   7.20290\n",
      "93   5.3054   1.98690\n",
      "94   8.2934   0.14454\n",
      "95  13.3940   9.05510\n",
      "96   5.4369   0.61705\n",
      "\n",
      "[97 rows x 2 columns]\n"
     ]
    }
   ],
   "source": [
    "# Plotting the data2.txt data which dont have header\n",
    "data = pd.read_csv('data2.txt', header= None)\n",
    "data.columns = ['X', 'Y']\n",
    "print(data)\n"
   ]
  },
  {
   "cell_type": "code",
   "execution_count": 6,
   "id": "8324814c",
   "metadata": {},
   "outputs": [
    {
     "data": {
      "image/png": "[encoded data removed]",
      "text/plain": [
       "<Figure size 432x288 with 1 Axes>"
      ]
     },
     "metadata": {},
     "output_type": "display_data"
    }
   ],
   "source": [
    "plt.style.use('seaborn-whitegrid')\n",
    "plt.plot(data['X'],data['Y'],'ro')\n",
    "plt.xlabel('X-axis')\n",
    "plt.ylabel('Y-axis')\n",
    "plt.show()"
   ]
  },
  {
   "cell_type": "markdown",
   "id": "dccca715",
   "metadata": {},
   "source": [
    "# Find the co-efficients using normal equation"
   ]
  },
  {
   "cell_type": "code",
   "execution_count": 7,
   "id": "046dfaf8",
   "metadata": {},
   "outputs": [],
   "source": [
    "# taking 1 vector with the size of input data to make the matrix multiplications possible\n",
    "x = np.ones((len(data), 1))"
   ]
  },
  {
   "cell_type": "code",
   "execution_count": 8,
   "id": "57b5968e",
   "metadata": {},
   "outputs": [],
   "source": [
    "x = np.append(x,data.loc[:, ['X']].to_numpy(), axis = 1)\n",
    "y = data.loc[:, ['Y']].to_numpy()"
   ]
  },
  {
   "cell_type": "code",
   "execution_count": 9,
   "id": "b8888679",
   "metadata": {},
   "outputs": [
    {
     "name": "stdout",
     "output_type": "stream",
     "text": [
      "Final Coefficients using Normal equation are: \n",
      " [[-3.89578088]\n",
      " [ 1.19303364]]\n"
     ]
    }
   ],
   "source": [
    "#  formula to find  coefficients for siple linear regression  = inv(x_t * x) * x_t * y\n",
    "x_t = np.transpose(x)\n",
    "x_t_x = np.dot(x_t, x)\n",
    "inv = np.linalg.inv(x_t_x)\n",
    "coff1 = np.dot(inv, x_t) \n",
    "final_coefficients = np.dot(coff1, y)\n",
    "print(\"Final Coefficients using Normal equation are: \\n\", final_coefficients)"
   ]
  },
  {
   "cell_type": "markdown",
   "id": "f597f7c4",
   "metadata": {},
   "source": [
    "# 3: Gradient Descent using batch AND stochastic modes respectively"
   ]
  },
  {
   "cell_type": "markdown",
   "id": "ea5aa0f3",
   "metadata": {},
   "source": [
    "# 3A-Split dataset into 80% for training and 20% for testing"
   ]
  },
  {
   "cell_type": "code",
   "execution_count": 10,
   "id": "aa781f94",
   "metadata": {},
   "outputs": [],
   "source": [
    "from sklearn.model_selection import train_test_split\n",
    "\n",
    "# train data size=80% and test data size=20%\n",
    "train, test = train_test_split(data,random_state=None, test_size=0.2) # data would be shuffled for each run\n"
   ]
  },
  {
   "cell_type": "code",
   "execution_count": 11,
   "id": "4a6b1e9b",
   "metadata": {},
   "outputs": [
    {
     "name": "stdout",
     "output_type": "stream",
     "text": [
      "          X         Y\n",
      "20   6.1891   3.13860\n",
      "58   9.3102   3.96240\n",
      "25  18.9450  22.63800\n",
      "54   6.3328   1.42330\n",
      "9    5.0546   3.81660\n",
      "..      ...       ...\n",
      "82   6.3557   0.67861\n",
      "35   7.9334   4.56230\n",
      "29  22.2030  24.14700\n",
      "30   5.2524  -1.22000\n",
      "3    7.0032  11.85400\n",
      "\n",
      "[77 rows x 2 columns]\n"
     ]
    }
   ],
   "source": [
    "print(train)"
   ]
  },
  {
   "cell_type": "code",
   "execution_count": 12,
   "id": "17b71ef7",
   "metadata": {},
   "outputs": [],
   "source": [
    "train_x_b = np.ones((len(train), 1))\n",
    "train_x_b = np.append(train_x_b,train.loc[:, ['X']].to_numpy(), axis = 1)\n",
    "train_x = train.loc[:, ['X']].to_numpy()\n",
    "train_y = train.loc[:, ['Y']].to_numpy()"
   ]
  },
  {
   "cell_type": "code",
   "execution_count": 13,
   "id": "b503d47e",
   "metadata": {},
   "outputs": [],
   "source": [
    "#print(train_x_b)"
   ]
  },
  {
   "cell_type": "markdown",
   "id": "e2107623",
   "metadata": {},
   "source": [
    "# BATCH GRADIENT DESCENT\n",
    "Gradient will be calculated after passing all the input data\n",
    "\n"
   ]
  },
  {
   "cell_type": "code",
   "execution_count": 14,
   "id": "784370ba",
   "metadata": {},
   "outputs": [
    {
     "name": "stdout",
     "output_type": "stream",
     "text": [
      "Updated weights using the batch gradient descent = \n",
      "[[0.03713272]\n",
      " [0.7940725 ]]\n"
     ]
    },
    {
     "data": {
      "image/png": "[encoded data removed]",
      "text/plain": [
       "<Figure size 432x288 with 1 Axes>"
      ]
     },
     "metadata": {},
     "output_type": "display_data"
    }
   ],
   "source": [
    "# Graph of MSE vs Iterations for the training dataset\n",
    "# stopping criteria is after running 200 iterations\n",
    "max_iterations = 30\n",
    "lr = 0.01 # learning rate\n",
    "m = len(train_x_b)\n",
    "\n",
    "w = np.random.randn(2,1)\n",
    "\n",
    "mse = np.zeros((max_iterations,1))\n",
    "\n",
    "for i in range(max_iterations):\n",
    "    #print(\" \")\n",
    "    #print(\" Iteration\",i)\n",
    "    pred = np.dot(train_x_b, w)\n",
    "    gradient = (2/len(train_x_b)) * np.dot(np.transpose(train_x_b),(pred - train_y))\n",
    "    #print(\"gradiant:\",gradient)\n",
    "    w = w - (lr * gradient)\n",
    "    #print(\" updated weight\",w)\n",
    "    mse[i][0] = np.sum(np.square(train_y - pred))/len(train_x_b)\n",
    "    #print(mse[i][0])\n",
    "\n",
    "    \n",
    "print(\"Updated weights using the batch gradient descent = \")\n",
    "print(w)\n",
    "\n",
    "plt.plot(range(max_iterations), mse)\n",
    "plt.xlabel(\"Iterations\")\n",
    "plt.ylabel(\"MSE\")\n",
    "plt.show()"
   ]
  },
  {
   "cell_type": "code",
   "execution_count": 15,
   "id": "2b535863",
   "metadata": {},
   "outputs": [],
   "source": [
    "test_x_b = np.ones((len(test), 1))\n",
    "test_x_b = np.append(test_x_b,test.loc[:, ['X']].to_numpy(), axis = 1)\n",
    "#test_y = test.loc[:, ['X']].to_numpy()\n",
    "test_y = test.loc[:, ['Y']].to_numpy()"
   ]
  },
  {
   "cell_type": "code",
   "execution_count": 16,
   "id": "30967970",
   "metadata": {},
   "outputs": [
    {
     "name": "stdout",
     "output_type": "stream",
     "text": [
      "[[ 4.51625745]\n",
      " [ 4.69023873]\n",
      " [ 9.3341335 ]\n",
      " [ 5.09172178]\n",
      " [ 4.58653286]\n",
      " [ 7.32687705]\n",
      " [ 6.07454531]\n",
      " [16.13298222]\n",
      " [ 4.71564905]\n",
      " [ 5.14270124]\n",
      " [ 4.42652725]\n",
      " [ 4.404055  ]\n",
      " [ 4.15709846]\n",
      " [11.28437556]\n",
      " [ 6.46586424]\n",
      " [ 4.3087663 ]\n",
      " [ 6.69376305]\n",
      " [ 4.51546337]\n",
      " [ 6.55734139]\n",
      " [ 5.66956834]]\n"
     ]
    }
   ],
   "source": [
    "# MSE of testing data\n",
    "pred_test = np.dot(test_x_b, w)\n",
    "print(pred_test)\n",
    "\n"
   ]
  },
  {
   "cell_type": "code",
   "execution_count": 17,
   "id": "0ea02c37",
   "metadata": {},
   "outputs": [
    {
     "data": {
      "text/plain": [
       "10.832152961613838"
      ]
     },
     "execution_count": 17,
     "metadata": {},
     "output_type": "execute_result"
    }
   ],
   "source": [
    "mse = np.sum(np.square(test_y - pred_test))/len(test_x_b)\n",
    "mse"
   ]
  },
  {
   "cell_type": "code",
   "execution_count": 18,
   "id": "12f13470",
   "metadata": {},
   "outputs": [
    {
     "name": "stdout",
     "output_type": "stream",
     "text": [
      "r-squared for Batch training set: \n",
      "0.6061303855994639\n"
     ]
    }
   ],
   "source": [
    "# r-squared of training data\n",
    "from sklearn.metrics import r2_score\n",
    "print(\"r-squared for Batch training set: \")\n",
    "print(r2_score(train_y, pred))"
   ]
  },
  {
   "cell_type": "code",
   "execution_count": 19,
   "id": "e2a71a42",
   "metadata": {},
   "outputs": [
    {
     "name": "stdout",
     "output_type": "stream",
     "text": [
      "r-squared for Batch testing set: \n",
      "0.6142043308743831\n"
     ]
    }
   ],
   "source": [
    "# r-squared of testing data\n",
    "print(\"r-squared for Batch testing set: \")\n",
    "print(r2_score(test_y, pred_test))"
   ]
  },
  {
   "cell_type": "markdown",
   "id": "304d5ea6",
   "metadata": {},
   "source": [
    "After 15 iteration MSE is nealry same"
   ]
  },
  {
   "cell_type": "markdown",
   "id": "eec6a77b",
   "metadata": {},
   "source": [
    "# STOCASTIC GRADIENT DESCENT \n",
    "gradient will be calculated and params will be updated for each input"
   ]
  },
  {
   "cell_type": "markdown",
   "id": "a43b99fd",
   "metadata": {},
   "source": [
    "# Stochastic gradiant descent using fixed Learning rate"
   ]
  },
  {
   "cell_type": "code",
   "execution_count": 20,
   "id": "e2f3adf3",
   "metadata": {},
   "outputs": [
    {
     "name": "stdout",
     "output_type": "stream",
     "text": [
      "weights w using the stocastic gradient descent = \n",
      "[[-3.74332879]\n",
      " [ 1.29475823]]\n"
     ]
    },
    {
     "data": {
      "image/png": "[encoded data removed]",
      "text/plain": [
       "<Figure size 432x288 with 1 Axes>"
      ]
     },
     "metadata": {},
     "output_type": "display_data"
    }
   ],
   "source": [
    "# Graph of MSE vs Iterations for the training dataset\n",
    "max_iterations = 100\n",
    "lr = 0.001 # learning rate\n",
    "\n",
    "m = len(train_x_b)\n",
    "w = np.random.randn(2,1)\n",
    "mse = np.zeros((max_iterations,1))\n",
    "\n",
    "for epoch in range(max_iterations):\n",
    "    for i in range(m):\n",
    "        random_index = np.random.randint(m)\n",
    "        xi = train_x_b[random_index:random_index+1]\n",
    "        yi = train_y[random_index:random_index+1]\n",
    "        gradient = 2 * xi.T.dot(xi.dot(w) - yi)\n",
    "        w = w - (lr * gradient)\n",
    "        mse[i][0] = np.sum(np.square(xi.dot(w) - yi))\n",
    "\n",
    "print(\"weights w using the stocastic gradient descent = \")\n",
    "print(w)\n",
    "\n",
    "plt.plot(range(max_iterations), mse)\n",
    "plt.xlabel(\"Iterations\")\n",
    "plt.ylabel(\"MSE\")\n",
    "plt.show()"
   ]
  },
  {
   "cell_type": "code",
   "execution_count": 21,
   "id": "0b9688e1",
   "metadata": {},
   "outputs": [
    {
     "name": "stdout",
     "output_type": "stream",
     "text": [
      "[[-3.74332879]\n",
      " [ 1.29475823]]\n"
     ]
    },
    {
     "data": {
      "text/plain": [
       "8.489874318479748"
      ]
     },
     "execution_count": 21,
     "metadata": {},
     "output_type": "execute_result"
    }
   ],
   "source": [
    "# MSE of testing data\n",
    "print(w)\n",
    "pred_test = np.dot(test_x_b, w)\n",
    "mse = np.sum(np.square(test_y - pred_test))/len(test_x_b)\n",
    "mse"
   ]
  },
  {
   "cell_type": "markdown",
   "id": "b829f588",
   "metadata": {},
   "source": [
    "# Findings"
   ]
  },
  {
   "cell_type": "markdown",
   "id": "255c66e9",
   "metadata": {},
   "source": [
    "MSE for batch gradient descent test data:7.329425594687434\n",
    "r-squared of Batch GD training set: 0.6351936055689211\n",
    "r-squared of Batch GD testing set: 0.5619051662720667\n",
    "    \n",
    "MSE for stochastic gradient descent test data.865695979780961\n",
    "\n",
    "Conclusion : for Batch gradiant MSE decreased till 3-4 iterations and then maintained nearly same values\n",
    "    Where as for stocastic MSE fluctuated till some 75 ietrations and then maintained nearly same values "
   ]
  },
  {
   "cell_type": "markdown",
   "id": "1db81b81",
   "metadata": {},
   "source": [
    "# plot MSE of the testing set vs. learning rate"
   ]
  },
  {
   "cell_type": "code",
   "execution_count": 22,
   "id": "8675064f",
   "metadata": {},
   "outputs": [
    {
     "name": "stdout",
     "output_type": "stream",
     "text": [
      "weights w using the batch gradient descent with learning rate 0.001 = \n",
      "[[0.27628636]\n",
      " [0.77031303]]\n",
      "weights w using the batch gradient descent with learning rate 0.002 = \n",
      "[[-0.28778316]\n",
      " [ 0.82638771]]\n",
      "weights w using the batch gradient descent with learning rate 0.003 = \n",
      "[[-0.99398854]\n",
      " [ 0.89659226]]\n",
      "weights w using the batch gradient descent with learning rate 0.004 = \n",
      "[[-1.72500739]\n",
      " [ 0.96926354]]\n",
      "weights w using the batch gradient descent with learning rate 0.005 = \n",
      "[[-2.38484552]\n",
      " [ 1.03485867]]\n",
      "weights w using the batch gradient descent with learning rate 0.006 = \n",
      "[[-2.91664227]\n",
      " [ 1.08772509]]\n",
      "weights w using the batch gradient descent with learning rate 0.007 = \n",
      "[[-3.30419949]\n",
      " [ 1.12625252]]\n",
      "weights w using the batch gradient descent with learning rate 0.008 = \n",
      "[[-3.56152063]\n",
      " [ 1.15183306]]\n",
      "weights w using the batch gradient descent with learning rate 0.009 = \n",
      "[[-3.71793184]\n",
      " [ 1.16738205]]\n",
      "weights w using the batch gradient descent with learning rate 0.01 = \n",
      "[[-3.80525818]\n",
      " [ 1.17606325]]\n"
     ]
    },
    {
     "data": {
      "image/png": "[encoded data removed]",
      "text/plain": [
       "<Figure size 432x288 with 1 Axes>"
      ]
     },
     "metadata": {},
     "output_type": "display_data"
    }
   ],
   "source": [
    "# Graph of MSE vs Iterations for the training dataset\n",
    "max_iterations = 200\n",
    "lr = 0.001 # learning rate\n",
    "m = len(train_x_b)\n",
    "\n",
    "w = np.random.randn(2,1)\n",
    "\n",
    "mse1 = np.zeros((max_iterations,1))\n",
    "\n",
    "for i in range(max_iterations):\n",
    "    pred = np.dot(train_x_b, w)\n",
    "    gradient = (2/len(train_x_b)) * np.dot(np.transpose(train_x_b),(pred - train_y))\n",
    "    w = w - (lr * gradient)\n",
    "    mse1[i][0] = np.sum(np.square(train_y - pred))/len(train_x_b)\n",
    "    \n",
    "\n",
    "print(\"weights w using the batch gradient descent with learning rate 0.001 = \")\n",
    "print(w)\n",
    "\n",
    "lr = 0.002 # learning rate\n",
    "mse2 = np.zeros((max_iterations,1))\n",
    "\n",
    "for i in range(max_iterations):\n",
    "    pred = np.dot(train_x_b, w)\n",
    "    gradient = (2/len(train_x_b)) * np.dot(np.transpose(train_x_b),(pred - train_y))\n",
    "    w = w - (lr * gradient)\n",
    "    mse2[i][0] = np.sum(np.square(train_y - pred))/len(train_x_b)\n",
    "    \n",
    "\n",
    "print(\"weights w using the batch gradient descent with learning rate 0.002 = \")\n",
    "print(w)\n",
    "\n",
    "lr = 0.003 # learning rate\n",
    "mse3 = np.zeros((max_iterations,1))\n",
    "\n",
    "for i in range(max_iterations):\n",
    "    pred = np.dot(train_x_b, w)\n",
    "    gradient = (2/len(train_x_b)) * np.dot(np.transpose(train_x_b),(pred - train_y))\n",
    "    w = w - (lr * gradient)\n",
    "    mse3[i][0] = np.sum(np.square(train_y - pred))/len(train_x_b)\n",
    "    \n",
    "\n",
    "print(\"weights w using the batch gradient descent with learning rate 0.003 = \")\n",
    "print(w)\n",
    "\n",
    "lr = 0.004 # learning rate\n",
    "mse4 = np.zeros((max_iterations,1))\n",
    "\n",
    "for i in range(max_iterations):\n",
    "    pred = np.dot(train_x_b, w)\n",
    "    gradient = (2/len(train_x_b)) * np.dot(np.transpose(train_x_b),(pred - train_y))\n",
    "    w = w - (lr * gradient)\n",
    "    mse4[i][0] = np.sum(np.square(train_y - pred))/len(train_x_b)\n",
    "    \n",
    "        \n",
    "print(\"weights w using the batch gradient descent with learning rate 0.004 = \")\n",
    "print(w)\n",
    "\n",
    "lr = 0.005 # learning rate\n",
    "mse5 = np.zeros((max_iterations,1))\n",
    "\n",
    "for i in range(max_iterations):\n",
    "    pred = np.dot(train_x_b, w)\n",
    "    gradient = (2/len(train_x_b)) * np.dot(np.transpose(train_x_b),(pred - train_y))\n",
    "    w = w - (lr * gradient)\n",
    "    mse5[i][0] = np.sum(np.square(train_y - pred))/len(train_x_b)\n",
    "    \n",
    "        \n",
    "print(\"weights w using the batch gradient descent with learning rate 0.005 = \")\n",
    "print(w)\n",
    "\n",
    "lr = 0.006 # learning rate\n",
    "mse6 = np.zeros((max_iterations,1))\n",
    "\n",
    "for i in range(max_iterations):\n",
    "    pred = np.dot(train_x_b, w)\n",
    "    gradient = (2/len(train_x_b)) * np.dot(np.transpose(train_x_b),(pred - train_y))\n",
    "    w = w - (lr * gradient)\n",
    "    mse6[i][0] = np.sum(np.square(train_y - pred))/len(train_x_b)\n",
    "    \n",
    "        \n",
    "print(\"weights w using the batch gradient descent with learning rate 0.006 = \")\n",
    "print(w)\n",
    "\n",
    "lr = 0.007 # learning rate\n",
    "mse7 = np.zeros((max_iterations,1))\n",
    "\n",
    "for i in range(max_iterations):\n",
    "    pred = np.dot(train_x_b, w)\n",
    "    gradient = (2/len(train_x_b)) * np.dot(np.transpose(train_x_b),(pred - train_y))\n",
    "    w = w - (lr * gradient)\n",
    "    mse6[i][0] = np.sum(np.square(train_y - pred))/len(train_x_b)\n",
    "    \n",
    "print(\"weights w using the batch gradient descent with learning rate 0.007 = \")\n",
    "print(w)\n",
    "\n",
    "lr = 0.008 # learning rate\n",
    "mse8 = np.zeros((max_iterations,1))\n",
    "\n",
    "for i in range(max_iterations):\n",
    "    pred = np.dot(train_x_b, w)\n",
    "    gradient = (2/len(train_x_b)) * np.dot(np.transpose(train_x_b),(pred - train_y))\n",
    "    w = w - (lr * gradient)\n",
    "    mse6[i][0] = np.sum(np.square(train_y - pred))/len(train_x_b)\n",
    "    \n",
    "        \n",
    "print(\"weights w using the batch gradient descent with learning rate 0.008 = \")\n",
    "print(w)\n",
    "\n",
    "lr = 0.009 # learning rate\n",
    "mse9 = np.zeros((max_iterations,1))\n",
    "\n",
    "for i in range(max_iterations):\n",
    "    pred = np.dot(train_x_b, w)\n",
    "    gradient = (2/len(train_x_b)) * np.dot(np.transpose(train_x_b),(pred - train_y))\n",
    "    w = w - (lr * gradient)\n",
    "    mse6[i][0] = np.sum(np.square(train_y - pred))/len(train_x_b)\n",
    "    \n",
    "        \n",
    "print(\"weights w using the batch gradient descent with learning rate 0.009 = \")\n",
    "print(w)\n",
    "\n",
    "lr = 0.01 # learning rate\n",
    "mse10 = np.zeros((max_iterations,1))\n",
    "\n",
    "for i in range(max_iterations):\n",
    "    pred = np.dot(train_x_b, w)\n",
    "    gradient = (2/len(train_x_b)) * np.dot(np.transpose(train_x_b),(pred - train_y))\n",
    "    w = w - (lr * gradient)\n",
    "    mse6[i][0] = np.sum(np.square(train_y - pred))/len(train_x_b)\n",
    "    \n",
    "        \n",
    "print(\"weights w using the batch gradient descent with learning rate 0.01 = \")\n",
    "print(w)\n",
    "\n",
    "\n",
    "\n",
    "plt.plot(range(max_iterations), mse1, label = \"lr = 0.001\")\n",
    "plt.plot(range(max_iterations), mse2, label = \"lr = 0.002\")\n",
    "plt.plot(range(max_iterations), mse3, label = \"lr = 0.003\")\n",
    "plt.plot(range(max_iterations), mse4, label = \"lr = 0.004\")\n",
    "plt.plot(range(max_iterations), mse5, label = \"lr = 0.005\")\n",
    "plt.plot(range(max_iterations), mse6, label = \"lr = 0.006\")\n",
    "plt.plot(range(max_iterations), mse7, label = \"lr = 0.007\")\n",
    "plt.plot(range(max_iterations), mse8, label = \"lr = 0.008\")\n",
    "plt.plot(range(max_iterations), mse9, label = \"lr = 0.009\")\n",
    "plt.plot(range(max_iterations), mse10, label = \"lr = 0.010\")\n",
    "plt.xlabel(\"Iterations\")\n",
    "plt.ylabel(\"MSE\")\n",
    "plt.legend()\n",
    "plt.show()"
   ]
  },
  {
   "cell_type": "code",
   "execution_count": 23,
   "id": "09d20917",
   "metadata": {},
   "outputs": [],
   "source": [
    "#Plot the cost function"
   ]
  },
  {
   "cell_type": "code",
   "execution_count": 24,
   "id": "36be9711",
   "metadata": {},
   "outputs": [
    {
     "name": "stdout",
     "output_type": "stream",
     "text": [
      "Cost Function for LR  0.001 :  [10.58194269]\n",
      "Cost Function for LR  0.002 :  [9.8082143]\n",
      "Cost Function for LR  0.003 :  [9.53604333]\n",
      "Cost Function for LR  0.004 :  [9.30472534]\n",
      "Cost Function for LR  0.005 :  [9.20420642]\n",
      "Cost Function for LR  0.006 :  [9.23705007]\n",
      "Cost Function for LR  0.007 :  [9.21551696]\n",
      "Cost Function for LR  0.008 :  [9.20316624]\n",
      "Cost Function for LR  0.009 :  [9.18969255]\n",
      "Cost Function for LR  0.01 :  [9.18935227]\n"
     ]
    },
    {
     "data": {
      "image/png": "[encoded data removed]",
      "text/plain": [
       "<Figure size 432x288 with 1 Axes>"
      ]
     },
     "metadata": {},
     "output_type": "display_data"
    }
   ],
   "source": [
    "lr_list = [0.001, 0.002, 0.003, 0.004, 0.005, 0.006, 0.007, 0.008, 0.009,0.010]\n",
    "mse_list = []\n",
    "for i in lr_list:\n",
    "    lr = i\n",
    "    max_iterations = 1000\n",
    "    m = len(train_x_b)\n",
    "    w = np.random.randn(2,1)\n",
    "    mse = np.zeros((max_iterations,1))\n",
    "    for i in range(max_iterations):\n",
    "        pred = np.dot(train_x_b, w)\n",
    "        gradient = (2/len(train_x_b)) * np.dot(np.transpose(train_x_b),(pred - train_y))\n",
    "        w = w - (lr * gradient)\n",
    "        mse[i][0] = np.sum(np.square(train_y - pred))/len(train_x_b)\n",
    "        if (i>0 and mse[i - 1][0] - mse[i][0] < 0.000001):\n",
    "            break # termination criteria\n",
    "    mse_list.append(mse[-1])\n",
    "    print('Cost Function for LR ',lr,': ', mse[-1])\n",
    "plt.plot(lr_list,mse_list,'r-',)\n",
    "plt.xlabel('Learning Rate')\n",
    "plt.ylabel('MSE')\n",
    "plt.title('MSE vs. learning rate')\n",
    "plt.show()"
   ]
  },
  {
   "cell_type": "markdown",
   "id": "ccbd67f3",
   "metadata": {},
   "source": []
  },
  {
   "cell_type": "code",
   "execution_count": null,
   "id": "817f1208",
   "metadata": {},
   "outputs": [],
   "source": []
  },
  {
   "cell_type": "code",
   "execution_count": 25,
   "id": "8970c60a",
   "metadata": {},
   "outputs": [],
   "source": [
    "# for stochastic gradient descent\n"
   ]
  },
  {
   "cell_type": "code",
   "execution_count": 26,
   "id": "3c620a5d",
   "metadata": {},
   "outputs": [
    {
     "name": "stdout",
     "output_type": "stream",
     "text": [
      "weights w using the stocastic gradient descent for learning rate 0.001 = \n",
      "[[-3.55425893]\n",
      " [ 1.08206765]]\n",
      "weights w using the stocastic gradient descent for learning rate 0.002 = \n",
      "[[-3.66565539]\n",
      " [ 1.08088601]]\n",
      "weights w using the stocastic gradient descent for learning rate 0.003 = \n",
      "[[-3.71644706]\n",
      " [ 1.09232951]]\n",
      "weights w using the stocastic gradient descent for learning rate 0.004 = \n",
      "[[-3.25504541]\n",
      " [ 1.50216431]]\n",
      "weights w using the stocastic gradient descent for learning rate 0.005 = \n",
      "[[-3.68008564]\n",
      " [ 1.23219688]]\n",
      "weights w using the stocastic gradient descent for learning rate 0.006 = \n",
      "[[-2.07407572]\n",
      " [ 1.01335826]]\n",
      "weights w using the stocastic gradient descent for learning rate 0.007 = \n",
      "[[-5.45612206]\n",
      " [ 1.72727146]]\n",
      "weights w using the stocastic gradient descent for learning rate 0.008 = \n",
      "[[-1.00548392]\n",
      " [ 0.28351699]]\n",
      "weights w using the stocastic gradient descent for learning rate 0.009 = \n",
      "[[4.45643343]\n",
      " [6.48952684]]\n",
      "weights w using the stocastic gradient descent for learning rate 0.010 = \n",
      "[[-2.91566217]\n",
      " [ 2.79680367]]\n"
     ]
    },
    {
     "data": {
      "image/png": "[encoded data removed]",
      "text/plain": [
       "<Figure size 432x288 with 1 Axes>"
      ]
     },
     "metadata": {},
     "output_type": "display_data"
    }
   ],
   "source": [
    "# Graph of MSE vs Iterations for the training dataset\n",
    "max_iterations = 100\n",
    "lr = 0.001 # learning rate\n",
    "\n",
    "m = len(train_x_b)\n",
    "w = np.random.randn(2,1)\n",
    "mse1 = np.zeros((max_iterations,1))\n",
    "\n",
    "for epoch in range(max_iterations):\n",
    "    for i in range(m):\n",
    "        random_index = np.random.randint(m)\n",
    "        xi = train_x_b[random_index:random_index+1]\n",
    "        yi = train_y[random_index:random_index+1]\n",
    "        gradient = 2 * xi.T.dot(xi.dot(w) - yi)\n",
    "        w = w - (lr * gradient)\n",
    "        mse1[i][0] = np.sum(np.square(xi.dot(w) - yi))\n",
    "\n",
    "print(\"weights w using the stocastic gradient descent for learning rate 0.001 = \")\n",
    "print(w)\n",
    "\n",
    "lr = 0.002 # learning rate\n",
    "w = np.random.randn(2,1)\n",
    "mse2 = np.zeros((max_iterations,1))\n",
    "\n",
    "for epoch in range(max_iterations):\n",
    "    for i in range(m):\n",
    "        random_index = np.random.randint(m)\n",
    "        xi = train_x_b[random_index:random_index+1]\n",
    "        yi = train_y[random_index:random_index+1]\n",
    "        gradient = 2 * xi.T.dot(xi.dot(w) - yi)\n",
    "        w = w - (lr * gradient)\n",
    "        mse2[i][0] = np.sum(np.square(xi.dot(w) - yi))\n",
    "        \n",
    "print(\"weights w using the stocastic gradient descent for learning rate 0.002 = \")\n",
    "print(w)    \n",
    "\n",
    "lr = 0.003 # learning rate\n",
    "w = np.random.randn(2,1)\n",
    "mse3 = np.zeros((max_iterations,1))\n",
    "\n",
    "for epoch in range(max_iterations):\n",
    "    for i in range(m):\n",
    "        random_index = np.random.randint(m)\n",
    "        xi = train_x_b[random_index:random_index+1]\n",
    "        yi = train_y[random_index:random_index+1]\n",
    "        gradient = 2 * xi.T.dot(xi.dot(w) - yi)\n",
    "        w = w - (lr * gradient)\n",
    "        mse3[i][0] = np.sum(np.square(xi.dot(w) - yi))\n",
    "        \n",
    "print(\"weights w using the stocastic gradient descent for learning rate 0.003 = \")\n",
    "print(w)    \n",
    "\n",
    "lr = 0.004 # learning rate\n",
    "w = np.random.randn(2,1)\n",
    "mse4 = np.zeros((max_iterations,1))\n",
    "\n",
    "for epoch in range(max_iterations):\n",
    "    for i in range(m):\n",
    "        random_index = np.random.randint(m)\n",
    "        xi = train_x_b[random_index:random_index+1]\n",
    "        yi = train_y[random_index:random_index+1]\n",
    "        gradient = 2 * xi.T.dot(xi.dot(w) - yi)\n",
    "        w = w - (lr * gradient)\n",
    "        mse4[i][0] = np.sum(np.square(xi.dot(w) - yi))\n",
    "        \n",
    "print(\"weights w using the stocastic gradient descent for learning rate 0.004 = \")\n",
    "print(w)\n",
    "\n",
    "lr = 0.005 # learning rate\n",
    "w = np.random.randn(2,1)\n",
    "mse5 = np.zeros((max_iterations,1))\n",
    "\n",
    "for epoch in range(max_iterations):\n",
    "    for i in range(m):\n",
    "        random_index = np.random.randint(m)\n",
    "        xi = train_x_b[random_index:random_index+1]\n",
    "        yi = train_y[random_index:random_index+1]\n",
    "        gradient = 2 * xi.T.dot(xi.dot(w) - yi)\n",
    "        w = w - (lr * gradient)\n",
    "        mse5[i][0] = np.sum(np.square(xi.dot(w) - yi))\n",
    "        \n",
    "print(\"weights w using the stocastic gradient descent for learning rate 0.005 = \")\n",
    "print(w)\n",
    "\n",
    "lr = 0.006 # learning rate\n",
    "w = np.random.randn(2,1)\n",
    "mse6 = np.zeros((max_iterations,1))\n",
    "\n",
    "for epoch in range(max_iterations):\n",
    "    for i in range(m):\n",
    "        random_index = np.random.randint(m)\n",
    "        xi = train_x_b[random_index:random_index+1]\n",
    "        yi = train_y[random_index:random_index+1]\n",
    "        gradient = 2 * xi.T.dot(xi.dot(w) - yi)\n",
    "        w = w - (lr * gradient)\n",
    "        mse6[i][0] = np.sum(np.square(xi.dot(w) - yi))\n",
    "        \n",
    "print(\"weights w using the stocastic gradient descent for learning rate 0.006 = \")\n",
    "print(w)\n",
    "\n",
    "lr = 0.007 # learning rate\n",
    "w = np.random.randn(2,1)\n",
    "mse7 = np.zeros((max_iterations,1))\n",
    "\n",
    "for epoch in range(max_iterations):\n",
    "    for i in range(m):\n",
    "        random_index = np.random.randint(m)\n",
    "        xi = train_x_b[random_index:random_index+1]\n",
    "        yi = train_y[random_index:random_index+1]\n",
    "        gradient = 2 * xi.T.dot(xi.dot(w) - yi)\n",
    "        w = w - (lr * gradient)\n",
    "        mse7[i][0] = np.sum(np.square(xi.dot(w) - yi))\n",
    "        \n",
    "print(\"weights w using the stocastic gradient descent for learning rate 0.007 = \")\n",
    "print(w)\n",
    "\n",
    "lr = 0.008 # learning rate\n",
    "w = np.random.randn(2,1)\n",
    "mse8 = np.zeros((max_iterations,1))\n",
    "\n",
    "for epoch in range(max_iterations):\n",
    "    for i in range(m):\n",
    "        random_index = np.random.randint(m)\n",
    "        xi = train_x_b[random_index:random_index+1]\n",
    "        yi = train_y[random_index:random_index+1]\n",
    "        gradient = 2 * xi.T.dot(xi.dot(w) - yi)\n",
    "        w = w - (lr * gradient)\n",
    "        mse8[i][0] = np.sum(np.square(xi.dot(w) - yi))\n",
    "        \n",
    "print(\"weights w using the stocastic gradient descent for learning rate 0.008 = \")\n",
    "print(w)\n",
    "\n",
    "lr = 0.009 # learning rate\n",
    "w = np.random.randn(2,1)\n",
    "mse9 = np.zeros((max_iterations,1))\n",
    "\n",
    "for epoch in range(max_iterations):\n",
    "    for i in range(m):\n",
    "        random_index = np.random.randint(m)\n",
    "        xi = train_x_b[random_index:random_index+1]\n",
    "        yi = train_y[random_index:random_index+1]\n",
    "        gradient = 2 * xi.T.dot(xi.dot(w) - yi)\n",
    "        w = w - (lr * gradient)\n",
    "        mse9[i][0] = np.sum(np.square(xi.dot(w) - yi))\n",
    "        \n",
    "print(\"weights w using the stocastic gradient descent for learning rate 0.009 = \")\n",
    "print(w)\n",
    "\n",
    "lr = 0.010 # learning rate\n",
    "w = np.random.randn(2,1)\n",
    "mse10 = np.zeros((max_iterations,1))\n",
    "\n",
    "for epoch in range(max_iterations):\n",
    "    for i in range(m):\n",
    "        random_index = np.random.randint(m)\n",
    "        xi = train_x_b[random_index:random_index+1]\n",
    "        yi = train_y[random_index:random_index+1]\n",
    "        gradient = 2 * xi.T.dot(xi.dot(w) - yi)\n",
    "        w = w - (lr * gradient)\n",
    "        mse10[i][0] = np.sum(np.square(xi.dot(w) - yi))\n",
    "        \n",
    "print(\"weights w using the stocastic gradient descent for learning rate 0.010 = \")\n",
    "print(w)\n",
    "\n",
    "plt.plot(range(max_iterations), mse1, label = \"lr = 0.001\")\n",
    "plt.plot(range(max_iterations), mse2, label = \"lr = 0.002\")\n",
    "plt.plot(range(max_iterations), mse3, label = \"lr = 0.003\")\n",
    "plt.plot(range(max_iterations), mse4, label = \"lr = 0.004\")\n",
    "plt.plot(range(max_iterations), mse5, label = \"lr = 0.005\")\n",
    "plt.plot(range(max_iterations), mse6, label = \"lr = 0.006\")\n",
    "plt.plot(range(max_iterations), mse7, label = \"lr = 0.007\")\n",
    "plt.plot(range(max_iterations), mse8, label = \"lr = 0.008\")\n",
    "plt.plot(range(max_iterations), mse9, label = \"lr = 0.009\")\n",
    "plt.plot(range(max_iterations), mse10, label = \"lr = 0.010\")\n",
    "plt.xlabel(\"Iterations\")\n",
    "plt.ylabel(\"MSE\")\n",
    "plt.legend()\n",
    "plt.show()"
   ]
  },
  {
   "cell_type": "code",
   "execution_count": 27,
   "id": "3ece0e80",
   "metadata": {
    "scrolled": true
   },
   "outputs": [
    {
     "name": "stdout",
     "output_type": "stream",
     "text": [
      "Cost Function for LR  0.001 :  [0.00096016]\n",
      "Cost Function for LR  0.002 :  [0.03734822]\n",
      "Cost Function for LR  0.003 :  [18.74519578]\n",
      "Cost Function for LR  0.004 :  [0.00539247]\n",
      "Cost Function for LR  0.005 :  [3.39022775]\n",
      "Cost Function for LR  0.006 :  [445.31599866]\n",
      "Cost Function for LR  0.007 :  [0.41203581]\n",
      "Cost Function for LR  0.008 :  [0.23687811]\n",
      "Cost Function for LR  0.009 :  [0.17226736]\n",
      "Cost Function for LR  0.01 :  [0.94181199]\n"
     ]
    },
    {
     "data": {
      "image/png": "[encoded data removed]",
      "text/plain": [
       "<Figure size 432x288 with 1 Axes>"
      ]
     },
     "metadata": {},
     "output_type": "display_data"
    }
   ],
   "source": [
    "#lets plot cost function\n",
    "#For Stocastic\n",
    "lr_list = [0.001, 0.002, 0.003, 0.004, 0.005, 0.006, 0.007, 0.008, 0.009,0.010]\n",
    "mse_list = []\n",
    "for i in lr_list:\n",
    "    lr = i\n",
    "    max_iterations = 100\n",
    "    m = len(train_x_b)\n",
    "    w = np.random.randn(2,1)\n",
    "    mse = np.zeros((max_iterations,1))\n",
    "    \n",
    "    for epoch in range(max_iterations):\n",
    "        for i in range(m):\n",
    "            random_index = np.random.randint(m)\n",
    "            xi = train_x_b[random_index:random_index+1]\n",
    "            yi = train_y[random_index:random_index+1]\n",
    "            gradient = 2 * xi.T.dot(xi.dot(w) - yi)\n",
    "            w = w - (lr * gradient)\n",
    "            mse[i][0] = np.sum(np.square(xi.dot(w) - yi))\n",
    "\n",
    "    mse_list.append(mse[1])\n",
    "    print('Cost Function for LR ',lr,': ', mse[1])\n",
    "\n",
    "plt.plot(lr_list,mse_list,'r-',)\n",
    "plt.xlabel('Learning Rate')\n",
    "plt.ylabel('MSE')\n",
    "plt.title('MSE vs. learning rate')\n",
    "plt.show()"
   ]
  },
  {
   "cell_type": "markdown",
   "id": "65c2fd30",
   "metadata": {},
   "source": [
    " It is identified that in Batch gradient descent learning rate 0.006 is working better as the v=cost after this is maining nearly same values and also converging fastly\n",
    "\n",
    "\n",
    "for Stochastic gradient at 0.005 MSE is not fluctuating where as for other learning rates, fluctuations can be seen in graph.\n",
    "\n",
    "So the average good Learning rate would be nearly 0.005\n",
    "\n",
    "\n",
    "And both of the methods methods require further study to exactly identify the behaviour."
   ]
  },
  {
   "cell_type": "code",
   "execution_count": null,
   "id": "63f5da36",
   "metadata": {},
   "outputs": [],
   "source": []
  }
 ],
 "metadata": {
  "kernelspec": {
   "display_name": "Python 3 (ipykernel)",
   "language": "python",
   "name": "python3"
  },
  "language_info": {
   "codemirror_mode": {
    "name": "ipython",
    "version": 3
   },
   "file_extension": ".py",
   "mimetype": "text/x-python",
   "name": "python",
   "nbconvert_exporter": "python",
   "pygments_lexer": "ipython3",
   "version": "3.9.7"
  }
 },
 "nbformat": 4,
 "nbformat_minor": 5
}
